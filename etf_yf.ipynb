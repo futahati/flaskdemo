{
 "cells": [
  {
   "cell_type": "markdown",
   "metadata": {},
   "source": [
    "## 安裝套件\n",
    "- !pip install matplotlib\n",
    "- !pip install yfinance\n",
    "- !pip install https://github.com/matplotlib/mpl_finance/archive/master.zip"
   ]
  },
  {
   "cell_type": "markdown",
   "metadata": {},
   "source": [
    "## import\n",
    "- import matplotlib.pyplot as plt\n",
    "    - 如果不想要每次在jupyter notebook顯示都寫.show()，可以在jupyter notebook加上 「 %matplotlib inline 」\n",
    "- import yfinance as yf\n",
    "- plt圖表顯示中文設定：\n",
    "    - from matplotlib import font_manager\n",
    "    - font_set = {f.name for f in font_manager.fontManager.ttflist}\n",
    "    - 於圖表製作前，加上程式碼： plt.rcParams[\"font.family\"] = \"xxxxxx\" ← xxxx：一個電腦內建的字型名稱(不一定每個字型都能用)"
   ]
  },
  {
   "cell_type": "markdown",
   "metadata": {},
   "source": [
    "## 參數設定方式(中文化)\n",
    "import matplotlib.pyplot as plt  \n",
    "from matplotlib.font_manager import FontProperties\n",
    "\n",
    "plt.rcParams['font.sans-serif'] = ['Microsoft JhengHei'] \n",
    "\n",
    "plt.rcParams['axes.unicode_minus'] = False"
   ]
  },
  {
   "cell_type": "code",
   "execution_count": null,
   "metadata": {},
   "outputs": [],
   "source": [
    "import matplotlib.pyplot as plt\n",
    "%matplotlib inline\n",
    "import yfinance as yf\n",
    "from matplotlib import font_manager\n",
    "font_set = {f.name for f in font_manager.fontManager.ttflist}\n",
    "import pandas as pd"
   ]
  },
  {
   "cell_type": "code",
   "execution_count": null,
   "metadata": {},
   "outputs": [],
   "source": [
    "# 取得電腦內建的字型名稱\n",
    "for f in font_set:\n",
    "    print(f)"
   ]
  },
  {
   "cell_type": "code",
   "execution_count": null,
   "metadata": {},
   "outputs": [],
   "source": [
    "# 取得股市資料 nvda = 輝達(美股)／ period → 資料區間（一個月）\n",
    "nvda = yf.download(\"nvda\", period=\"1mo\")\n",
    "print(nvda)"
   ]
  },
  {
   "cell_type": "code",
   "execution_count": null,
   "metadata": {},
   "outputs": [],
   "source": [
    "nvda.to_csv(\"nvda.csv\")\n",
    "print(nvda.head())"
   ]
  },
  {
   "cell_type": "code",
   "execution_count": null,
   "metadata": {},
   "outputs": [],
   "source": [
    "# 設定圖表內顯示的中文字型\n",
    "plt.rcParams['font.family'] = 'SimSun'\n",
    "\n",
    "fig = plt.figure(figsize=(10, 6))\n",
    "nvda.Close.plot(title = \"nvidia(輝達)股票曲線\")\n",
    "\n",
    "#plt.title('tsla股票曲線',loc='right')\n",
    "# loc->title的位置\n",
    "plt.xlabel('日期')\n",
    "plt.ylabel('股票價')\n",
    "# plt.grid(True, axis='y')\n",
    "# plt.legend()\n",
    "fig.savefig('nvda.png')\n",
    "plt.show()"
   ]
  },
  {
   "cell_type": "code",
   "execution_count": null,
   "metadata": {},
   "outputs": [],
   "source": [
    "# 畫出股票曲線圖\n",
    "df_2330 =  yf.download(\"2330.tw\", start='2020-1-1', end='2024-8-1')\n",
    "print(df_2330)"
   ]
  },
  {
   "cell_type": "code",
   "execution_count": null,
   "metadata": {},
   "outputs": [],
   "source": [
    "df_2330.to_csv(\"2330.csv\")\n",
    "print(df_2330.head())"
   ]
  },
  {
   "cell_type": "code",
   "execution_count": null,
   "metadata": {},
   "outputs": [],
   "source": [
    "# 版型設定值\n",
    "plt.style.available"
   ]
  },
  {
   "cell_type": "code",
   "execution_count": null,
   "metadata": {},
   "outputs": [],
   "source": [
    "# 設定版型 [ 設定值如上述 ]\n",
    "# plt.style.use('classic')\n",
    "# 使用一次版型設定成功後，要恢復原始值，需使用程式碼： plt.rcParams.update(plt.rcParamsDefault)\n",
    "plt.rcParams.update(plt.rcParamsDefault)\n",
    "\n",
    "plt.rcParams['font.family'] = 'SimSun'\n",
    "# plt.rcParams['font.family'] = 'Microsoft JhengHei'\n",
    "\n",
    "plt.figure(figsize=(16, 8))\n",
    "\n",
    "# 取得「收盤價」.Close\n",
    "plt.plot(df_2330.Close)\n",
    "# 線條顏色、線條樣式、端點顯示樣式\n",
    "# plt.plot(df_2330.Close,color='red',linestyle='--',marker='^')\n",
    "\n",
    "# 標題 [ 顯示位置 + 字體大小 + 字體顏色 + 與圖表的間距 ] loc→'center', 'left', 'right'\n",
    "plt.title('台積電 股票曲線',loc='right',fontsize=24,color='blue',pad=24)\n",
    "# plt.title('台積電 股票曲線',loc='right',fontsize=24,color='blue',pad=24,y=0)\n",
    "\n",
    "# x軸、y軸標題 [ 字體大小 + 與圖表的間距 ]\n",
    "plt.xlabel('年份',fontsize=20,labelpad=20) # xlabel(loc) 預設 center，可設定 left 和 right\n",
    "plt.ylabel('收盤價',fontsize=20,labelpad=40, rotation=0) # ylabel(loc) 預設 center，可設定 top 和 bottom\n",
    "\n",
    "# 圖表網格線\n",
    "plt.grid(True, axis='y')\n",
    "\n",
    "# (2條顯示線)線條說明圖示\n",
    "# plt.legend(fontsize=16)\n",
    "\n",
    "# plt.axis([xstart, xend, ystart, yend]) -> 一次設定x和y軸\n",
    "\n",
    "# 更改 x軸、y軸 的邊界值：最小值、最大值的設定\n",
    "# plt.xlim(0, 200) #（plt.xlim(start, end)->控制x的範圍）\n",
    "# plt.ylim(0, 500)\n",
    "\n",
    "# x軸、y軸的刻度 [ 設定刻度間距值 + 字體旋轉角度 + 字體大小 ] （控制顯示的刻度值）\n",
    "plt.xticks(fontsize=30)\n",
    "plt.yticks(np.arange(0,len(df_2330.Close),200),rotation=30,fontsize=20)\n",
    "# np.linspace(0, 1200, 7) → 刻度在 0~1200 間，顯示 7 個值 = 顯示 6(=7-1) 間隔\n",
    "# plt.yticks(np.linspace(0, 1200, 7), rotation=30, fontsize=20)\n",
    "\n",
    "# 圖表儲存\n",
    "# plt.savefig('2330_yahoo_2018_01_01.png')\n",
    "\n",
    "# 直接繪圖\n",
    "plt.show()"
   ]
  },
  {
   "cell_type": "code",
   "execution_count": null,
   "metadata": {},
   "outputs": [],
   "source": [
    "# https://www.grenade.tw/blog/how-to-use-the-python-financial-analysis-visualization-module-mplfinance/\n",
    "# https://hackmd.io/@s02260441/Hki9NN5jL\n",
    "import mplfinance as mpf\n",
    "df_2330_daily = yf.download(\"2330.tw\", start='2024-9-1', end='2024-9-30')\n",
    "df_2330_daily"
   ]
  },
  {
   "cell_type": "code",
   "execution_count": null,
   "metadata": {},
   "outputs": [],
   "source": [
    "# 版型設定值\n",
    "mpf.available_styles()"
   ]
  },
  {
   "cell_type": "code",
   "execution_count": null,
   "metadata": {},
   "outputs": [],
   "source": [
    "# type設定值→ 'candle','line','renko','pnf'\n",
    "# 繪製均線(？) mav 可單個，可元組\n",
    "# 交易日顯示設定 show_nontrading\n",
    "mpf.plot(df_2330_daily,type='candle',mav=(3,6),volume=True,show_nontrading=True)\n",
    "mpf.plot(df_2330_daily,type='line', title = \"df_2330_daily\", style = 'ibd')"
   ]
  },
  {
   "cell_type": "code",
   "execution_count": null,
   "metadata": {},
   "outputs": [],
   "source": [
    "mpf.plot(df_2330_daily,type='candle',mav=10,volume=True)"
   ]
  },
  {
   "cell_type": "code",
   "execution_count": null,
   "metadata": {},
   "outputs": [],
   "source": [
    "import mplfinance as mpf\n",
    "df_2330_year = yf.download(\"2330.tw\", start='2018-1-1', end='2024-1-1')\n",
    "df_2330_year\n",
    "# df_2330_year = df_2330_year.drop('Volume',axis=1)\n",
    "# df_2330_year"
   ]
  },
  {
   "cell_type": "code",
   "execution_count": null,
   "metadata": {
    "scrolled": true
   },
   "outputs": [],
   "source": [
    "# type設定值→ 'candle','line','renko','pnf'\n",
    "mpf.plot(df_2330_year,type='renko')\n",
    "mpf.plot(df_2330_year,type='pnf')"
   ]
  },
  {
   "cell_type": "code",
   "execution_count": null,
   "metadata": {},
   "outputs": [],
   "source": [
    "Close = df_2330.Close\n",
    "Close"
   ]
  },
  {
   "cell_type": "code",
   "execution_count": null,
   "metadata": {},
   "outputs": [],
   "source": [
    "Open = df_2330.Open\n",
    "Open"
   ]
  },
  {
   "cell_type": "code",
   "execution_count": null,
   "metadata": {},
   "outputs": [],
   "source": [
    "data=pd.DataFrame()\n",
    "data['Close'] = df_2330.Close\n",
    "data['Open'] = df_2330.Open\n",
    "\n",
    "data"
   ]
  },
  {
   "cell_type": "code",
   "execution_count": null,
   "metadata": {},
   "outputs": [],
   "source": [
    "data.plot(figsize=(12,6),title='開盤價 vs 收盤價',xlabel='date',ylabel='price',fontsize=14)\n",
    "plt.show()"
   ]
  },
  {
   "cell_type": "code",
   "execution_count": null,
   "metadata": {},
   "outputs": [],
   "source": [
    "plt.rcParams['font.family'] = 'SimSun'\n",
    "\n",
    "fig = plt.figure(figsize=(30, 15))\n",
    "\n",
    "plt.title('台積電 股票曲線',loc='right')\n",
    "\n",
    "# 軸與子圖 plt.subplot(rows,cols,num)\n",
    "plt.subplot(2,2,1)\n",
    "plt.plot(df_2330.Close)\n",
    "plt.grid(True, axis='y')\n",
    "plt.xlabel('日期')\n",
    "plt.ylabel('收盤價')\n",
    "\n",
    "plt.subplot(2,2,2)\n",
    "plt.plot(df_2330.Open)\n",
    "plt.grid(True, axis='y')\n",
    "plt.xlabel('日期')\n",
    "plt.ylabel('開盤價')\n",
    "\n",
    "plt.subplot(2,2,3)\n",
    "plt.plot(df_2330.High)\n",
    "plt.grid(True, axis='y')\n",
    "plt.xlabel('日期')\n",
    "plt.ylabel('當日最高價')\n",
    "\n",
    "plt.subplot(2,2,4)\n",
    "plt.plot(df_2330.Low)\n",
    "plt.grid(True, axis='y')\n",
    "plt.xlabel('日期')\n",
    "plt.ylabel('當日最低價')\n",
    "\n",
    "# loc->title的位置\n",
    "# plt.xlabel('日期')\n",
    "# plt.ylabel('收盤價')\n",
    "# plt.grid(True, axis='y')\n",
    "#plt.legend()\n",
    "fig.savefig('2330_yahoo_2018_01_01.png')\n",
    "#plt.show()"
   ]
  },
  {
   "cell_type": "code",
   "execution_count": null,
   "metadata": {},
   "outputs": [],
   "source": [
    "plt.rcParams['font.family'] = 'SimSun'\n",
    "import matplotlib.pyplot as plt\n",
    "fig.subplots_adjust(left=0.09, bottom=0.20, right=0.94, top=0.90, wspace=0.2, hspace=0) \n",
    " \n",
    "fig, axes = plt.subplots(2,2, sharex = 'col', sharey = 'row',figsize=(18, 9)) \n",
    "\n",
    "axes[0,0].plot(df_2330.Close)\n",
    "axes[0,0].grid(True, axis='y')\n",
    "axes[0,0].set_title('收盤價')\n",
    "\n",
    "axes[0,1].plot(df_2330.Open)\n",
    "axes[0,1].grid(True, axis='y')\n",
    "axes[0,1].set_title('開盤價')\n",
    "\n",
    "axes[1,0].plot(df_2330.High)\n",
    "axes[1,0].grid(True, axis='y')\n",
    "axes[1,0].set_title('最高價')\n",
    "\n",
    "axes[1,1].plot(df_2330.Low)\n",
    "axes[1,1].grid(True, axis='y')\n",
    "axes[1,1].set_title('最低價')\n",
    "\n",
    "plt.subplot(2,2,1)\n",
    "plt.plot(df_2330.Close)\n",
    "plt.grid(True, axis='y')\n",
    "plt.subplot(2,2,2)\n",
    "plt.plot(df_2330.Open)\n",
    "plt.grid(True, axis='y')\n",
    "plt.subplot(2,2,3)\n",
    "plt.plot(df_2330.High)\n",
    "plt.grid(True, axis='y')\n",
    "plt.subplot(2,2,4)\n",
    "plt.plot(df_2330.Low)\n",
    "# loc->title的位置\n",
    "plt.xlabel('日期')\n",
    "plt.ylabel('收盤價')\n",
    "plt.grid(True, axis='y')\n",
    "plt.legend()\n",
    "#fig.savefig('2330_yahoo_2018_01_01.png')\n",
    "plt.show()"
   ]
  },
  {
   "cell_type": "markdown",
   "metadata": {},
   "source": [
    "# 股市k線圖 import\n",
    "- import matplotlib.pyplot as plt\n",
    "    - 如果不想要每次在jupyter notebook顯示都寫.show()，可以在jupyter notebook加上 「 %matplotlib inline 」\n",
    "- plt圖表顯示中文設定：\n",
    "    - from matplotlib import font_manager\n",
    "    - font_set = {f.name for f in font_manager.fontManager.ttflist}\n",
    "    - 於圖表製作前，加上程式碼： plt.rcParams[\"font.family\"] = \"xxxxxx\" ← xxxx：一個電腦內建的字型名稱(不一定每個字型都能用)\n",
    "- import yfinance as yf\n",
    "- import mpl_finance as mpf\n",
    "    - k線圖\n",
    "- import numpy as nppy as np"
   ]
  },
  {
   "cell_type": "code",
   "execution_count": null,
   "metadata": {
    "scrolled": false
   },
   "outputs": [],
   "source": [
    "import matplotlib.pyplot as plt\n",
    "%matplotlib inline\n",
    "from matplotlib import font_manager\n",
    "font_set = {f.name for f in font_manager.fontManager.ttflist}\n",
    "import yfinance as yf\n",
    "import mpl_finance as mpf\n",
    "import numpy as np"
   ]
  },
  {
   "cell_type": "code",
   "execution_count": null,
   "metadata": {},
   "outputs": [],
   "source": [
    "# 00929 取得股市資料：開始日、截止日\n",
    "df_00929 = yf.download(\"00929.tw\",  start='2023-1-1', end='2024-7-31')\n",
    "print(df_00929.info())\n",
    "print(\"=\"*80)\n",
    "print(df_00929)"
   ]
  },
  {
   "cell_type": "code",
   "execution_count": null,
   "metadata": {},
   "outputs": [],
   "source": [
    "df_00929.to_csv(\"00929.csv\")\n",
    "print(df_00929.head(5))"
   ]
  },
  {
   "cell_type": "code",
   "execution_count": null,
   "metadata": {},
   "outputs": [],
   "source": [
    "plt.rcParams['font.family'] = 'Microsoft JhengHei'\n",
    "\n",
    "fig = plt.figure(figsize=(10, 6))\n",
    "plt.plot(df_00929.Close)\n",
    "\n",
    "plt.title('復華台灣科技優息 股票曲線',loc='right')\n",
    "plt.xlabel('年月')\n",
    "plt.ylabel('收盤價')\n",
    "plt.grid(True, axis='y')\n",
    "\n",
    "plt.show()"
   ]
  },
  {
   "cell_type": "code",
   "execution_count": null,
   "metadata": {},
   "outputs": [],
   "source": [
    "plt.rcParams['font.family'] = 'Microsoft JhengHei'\n",
    "\n",
    "# 創建fig對象\n",
    "fig = plt.figure(figsize=(8, 6), dpi=100, facecolor=\"white\")\n",
    "\n",
    "# 設置圖像邊框\n",
    "fig.subplots_adjust(left=0.09, bottom=0.20, right=0.94, top=0.90, wspace=0.2, hspace=0)\n",
    "\n",
    "# 創建子圖\n",
    "graph_KAV = fig.add_subplot(1, 1, 1)\n",
    "\n",
    "# 畫k線\n",
    "mpf.candlestick2_ochl(graph_KAV, df_00929.Open, df_00929.Close, df_00929.High, df_00929.Low, width=0.5,\n",
    "                      colorup='r', colordown='g')  # 繪製K線走勢 https://github.com/matplotlib/mpl-finance/blob/master/mpl_finance.py\n",
    "\n",
    "# 繪製移動平均線圖，計算20、30、60日均線\n",
    "\n",
    "df_00929['Ma20'] = df_00929.Close.rolling(window=20).mean()\n",
    "\n",
    "df_00929['Ma30'] = df_00929.Close.rolling(window=30).mean()\n",
    "\n",
    "df_00929['Ma60'] = df_00929.Close.rolling(window=60).mean()\n",
    "\n",
    "\n",
    "\n",
    "# 繪製到圖上面\n",
    "#需要說明的是Ma20、Ma30、Ma60分別在第20個、30個、60個交易日時才能計算得到第一個週期內的收盤價平均值，所以有一段移動平均線為無效值。\n",
    "graph_KAV.plot(np.arange(0, len(df_00929.index)), df_00929['Ma20'], 'black', label='M20', lw=1.0)\n",
    "graph_KAV.plot(np.arange(0, len(df_00929.index)), df_00929['Ma30'], 'green', label='M30', lw=1.0)\n",
    "graph_KAV.plot(np.arange(0, len(df_00929.index)), df_00929['Ma60'], 'blue', label='M60', lw=1.0)\n",
    "\n",
    "# 圖像設置\n",
    "\n",
    "# 添加圖例\n",
    "graph_KAV.legend(loc='best')\n",
    "\n",
    "graph_KAV.set_title(u\"00929 復華台灣科技優息-日K線\")\n",
    "graph_KAV.set_xlabel(\"日期\")\n",
    "graph_KAV.set_ylabel(u\"價格\")\n",
    "graph_KAV.set_xlim(0, len(df_00929.index))  # 設置一下x軸的範圍\n",
    "graph_KAV.set_xticks(range(0, len(df_00929.index), 15))  # X軸刻度設定 每15天標一個日期\n",
    "# 使用「串列生成」產生串列\n",
    "graph_KAV.set_xticklabels([df_00929.index.strftime('%Y-%m-%d')[index] for index in graph_KAV.get_xticks()])  # 標籤設置為日期\n",
    "\n",
    "# X-軸每個ticker標籤都向右傾斜45度\n",
    "for label in graph_KAV.xaxis.get_ticklabels():\n",
    "    label.set_rotation(45)\n",
    "    label.set_fontsize(9)  #設置標籤字體\n",
    "plt.savefig('00929_k.jpg')\n",
    "plt.show()"
   ]
  },
  {
   "cell_type": "code",
   "execution_count": null,
   "metadata": {},
   "outputs": [],
   "source": [
    "plt.rcParams['font.family'] = 'Microsoft JhengHei'\n",
    "\n",
    "# 創建fig對象\n",
    "fig = plt.figure(figsize=(8, 6), dpi=100, facecolor=\"white\")\n",
    "\n",
    "# 設置圖像邊框\n",
    "fig.subplots_adjust(left=0.09, bottom=0.20, right=0.94, top=0.90, wspace=0.2, hspace=0)\n",
    "\n",
    "# 創建子圖\n",
    "graph_KAV = fig.add_subplot(1, 1, 1)\n",
    "\n",
    "# 畫k線\n",
    "mpf.candlestick2_ochl(graph_KAV, df_00929.Open, df_00929.Close, df_00929.High, df_00929.Low, width=0.5,\n",
    "                      colorup='r', colordown='g')  # 繪製K線走勢 https://github.com/matplotlib/mpl-finance/blob/master/mpl_finance.py\n",
    "\n",
    "# 繪製移動平均線圖，計算20、30、60日均線\n",
    "\n",
    "df_00929['Ma20'] = df_00929.Close.rolling(window=20).mean()\n",
    "\n",
    "# 繪製到圖上面\n",
    "#需要說明的是Ma20、Ma30、Ma60分別在第20個、30個、60個交易日時才能計算得到第一個週期內的收盤價平均值，所以有一段移動平均線為無效值。\n",
    "graph_KAV.plot(np.arange(0, len(df_00929.index)), df_00929['Ma20'], 'black', label='M20', lw=1.0)\n",
    "# 圖像設置\n",
    "\n",
    "# 添加圖例\n",
    "graph_KAV.legend(loc='best')\n",
    "\n",
    "graph_KAV.set_title(u\"00929 復華台灣科技優息-日K線\")\n",
    "graph_KAV.set_xlabel(\"日期\")\n",
    "graph_KAV.set_ylabel(u\"價格\")\n",
    "graph_KAV.set_xlim(0, len(df_00929.index))  # 設置一下x軸的範圍\n",
    "graph_KAV.set_xticks(range(0, len(df_00929.index), 15))  # X軸刻度設定 每15天標一個日期\n",
    "# 使用「串列生成」產生串列\n",
    "graph_KAV.set_xticklabels([df_00929.index.strftime('%Y-%m-%d')[index] for index in graph_KAV.get_xticks()])  # 標籤設置為日期\n",
    "\n",
    "# X-軸每個ticker標籤都向右傾斜45度\n",
    "for label in graph_KAV.xaxis.get_ticklabels():\n",
    "    label.set_rotation(45)\n",
    "    label.set_fontsize(9)  #設置標籤字體\n",
    "plt.savefig('00929_k.jpg')\n",
    "plt.show()"
   ]
  },
  {
   "cell_type": "code",
   "execution_count": null,
   "metadata": {},
   "outputs": [],
   "source": []
  },
  {
   "cell_type": "code",
   "execution_count": null,
   "metadata": {},
   "outputs": [],
   "source": []
  },
  {
   "cell_type": "code",
   "execution_count": null,
   "metadata": {},
   "outputs": [],
   "source": []
  },
  {
   "cell_type": "code",
   "execution_count": null,
   "metadata": {},
   "outputs": [],
   "source": []
  },
  {
   "cell_type": "code",
   "execution_count": null,
   "metadata": {},
   "outputs": [],
   "source": []
  },
  {
   "cell_type": "code",
   "execution_count": null,
   "metadata": {},
   "outputs": [],
   "source": []
  },
  {
   "cell_type": "code",
   "execution_count": null,
   "metadata": {},
   "outputs": [],
   "source": []
  },
  {
   "cell_type": "code",
   "execution_count": null,
   "metadata": {},
   "outputs": [],
   "source": []
  },
  {
   "cell_type": "code",
   "execution_count": null,
   "metadata": {},
   "outputs": [],
   "source": []
  },
  {
   "cell_type": "code",
   "execution_count": null,
   "metadata": {},
   "outputs": [],
   "source": []
  },
  {
   "cell_type": "code",
   "execution_count": null,
   "metadata": {},
   "outputs": [],
   "source": []
  },
  {
   "cell_type": "code",
   "execution_count": null,
   "metadata": {},
   "outputs": [],
   "source": []
  },
  {
   "cell_type": "code",
   "execution_count": null,
   "metadata": {},
   "outputs": [],
   "source": []
  },
  {
   "cell_type": "code",
   "execution_count": null,
   "metadata": {},
   "outputs": [],
   "source": []
  },
  {
   "cell_type": "code",
   "execution_count": null,
   "metadata": {},
   "outputs": [],
   "source": []
  },
  {
   "cell_type": "code",
   "execution_count": null,
   "metadata": {},
   "outputs": [],
   "source": []
  },
  {
   "cell_type": "code",
   "execution_count": null,
   "metadata": {},
   "outputs": [],
   "source": []
  },
  {
   "cell_type": "code",
   "execution_count": null,
   "metadata": {},
   "outputs": [],
   "source": []
  },
  {
   "cell_type": "code",
   "execution_count": null,
   "metadata": {},
   "outputs": [],
   "source": []
  },
  {
   "cell_type": "code",
   "execution_count": null,
   "metadata": {},
   "outputs": [],
   "source": []
  },
  {
   "cell_type": "code",
   "execution_count": null,
   "metadata": {},
   "outputs": [],
   "source": []
  },
  {
   "cell_type": "code",
   "execution_count": null,
   "metadata": {},
   "outputs": [],
   "source": []
  },
  {
   "cell_type": "code",
   "execution_count": null,
   "metadata": {},
   "outputs": [],
   "source": []
  },
  {
   "cell_type": "code",
   "execution_count": null,
   "metadata": {},
   "outputs": [],
   "source": []
  },
  {
   "cell_type": "code",
   "execution_count": null,
   "metadata": {},
   "outputs": [],
   "source": []
  },
  {
   "cell_type": "code",
   "execution_count": null,
   "metadata": {},
   "outputs": [],
   "source": []
  },
  {
   "cell_type": "code",
   "execution_count": null,
   "metadata": {},
   "outputs": [],
   "source": []
  },
  {
   "cell_type": "code",
   "execution_count": null,
   "metadata": {},
   "outputs": [],
   "source": []
  },
  {
   "cell_type": "code",
   "execution_count": null,
   "metadata": {},
   "outputs": [],
   "source": []
  },
  {
   "cell_type": "code",
   "execution_count": null,
   "metadata": {},
   "outputs": [],
   "source": []
  }
 ],
 "metadata": {
  "kernelspec": {
   "display_name": "Python 3",
   "language": "python",
   "name": "python3"
  },
  "language_info": {
   "codemirror_mode": {
    "name": "ipython",
    "version": 3
   },
   "file_extension": ".py",
   "mimetype": "text/x-python",
   "name": "python",
   "nbconvert_exporter": "python",
   "pygments_lexer": "ipython3",
   "version": "3.7.6"
  }
 },
 "nbformat": 4,
 "nbformat_minor": 4
}
