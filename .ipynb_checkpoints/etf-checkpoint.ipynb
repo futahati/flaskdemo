{
 "cells": [
  {
   "cell_type": "code",
   "execution_count": null,
   "metadata": {},
   "outputs": [],
   "source": [
    "import requests\n",
    "from bs4 import BeautifulSoup\n",
    "import pandas as pd"
   ]
  },
  {
   "cell_type": "code",
   "execution_count": null,
   "metadata": {},
   "outputs": [],
   "source": [
    "# 奇摩股市 → 台股類股查詢 → 上市類股/ETF\n",
    "url = \"https://tw.stock.yahoo.com/class-quote?sectorId=26&exchange=TAI\""
   ]
  },
  {
   "cell_type": "code",
   "execution_count": null,
   "metadata": {},
   "outputs": [],
   "source": [
    "resp=requests.get(url)\n",
    "resp"
   ]
  },
  {
   "cell_type": "code",
   "execution_count": null,
   "metadata": {},
   "outputs": [],
   "source": [
    "soup=BeautifulSoup(resp.text, \"lxml\")\n",
    "soup"
   ]
  },
  {
   "cell_type": "code",
   "execution_count": null,
   "metadata": {},
   "outputs": [],
   "source": [
    "uls = soup.find(\"ul\", class_=\"M(0) P(0) List(n)\")\n",
    "uls"
   ]
  },
  {
   "cell_type": "code",
   "execution_count": null,
   "metadata": {},
   "outputs": [],
   "source": [
    "# uls[0].text → 無法使用哦～\n",
    "len(uls), type(uls)"
   ]
  },
  {
   "cell_type": "code",
   "execution_count": null,
   "metadata": {},
   "outputs": [],
   "source": [
    "# .find_all() 才會有 index 可以用..........\n",
    "lis = uls.find_all(\"div\")\n",
    "lis"
   ]
  },
  {
   "cell_type": "code",
   "execution_count": null,
   "metadata": {},
   "outputs": [],
   "source": [
    "len(lis), type(lis), lis[7].text"
   ]
  },
  {
   "cell_type": "code",
   "execution_count": null,
   "metadata": {},
   "outputs": [],
   "source": [
    "# .find_all() 才會有 index 可以用..........\n",
    "for ul in uls:\n",
    "    for li in ul.find_all(\"div\")[6:8]:\n",
    "        print(li.text)"
   ]
  },
  {
   "cell_type": "code",
   "execution_count": null,
   "metadata": {},
   "outputs": [],
   "source": [
    "index = [6, 7]\n",
    "lis = uls.find_all(\"div\")\n",
    "for i in index:\n",
    "    print(lis[i].text)"
   ]
  },
  {
   "cell_type": "code",
   "execution_count": null,
   "metadata": {},
   "outputs": [],
   "source": [
    "# 取得部份資料\n",
    "datas = []\n",
    "index = [6, 7]\n",
    "for ul in uls:\n",
    "    data = []\n",
    "    lis = ul.find_all(\"div\")\n",
    "    if li.text != \"-\":\n",
    "        for i in index:\n",
    "            data.append(lis[i].text)\n",
    "        datas.append(data)\n",
    "datas"
   ]
  },
  {
   "cell_type": "code",
   "execution_count": null,
   "metadata": {},
   "outputs": [],
   "source": [
    "df = pd.DataFrame(datas, columns=[\"name\", \"code\"])\n",
    "df"
   ]
  },
  {
   "cell_type": "markdown",
   "metadata": {},
   "source": [
    "# （待測試）使用server自動捲動網頁"
   ]
  },
  {
   "cell_type": "code",
   "execution_count": null,
   "metadata": {},
   "outputs": [],
   "source": [
    "import requests\n",
    "from bs4 import BeautifulSoup\n",
    "import pandas as pd\n",
    "from selenium import webdriver\n",
    "from selenium.webdriver.common.by import By\n",
    "from selenium.webdriver.chrome.service import Service\n",
    "import time"
   ]
  },
  {
   "cell_type": "code",
   "execution_count": null,
   "metadata": {},
   "outputs": [],
   "source": [
    "def get_chrome(url,path=r'C:\\webdriver\\chromedriver.exe'):\n",
    "    '''\n",
    "    一、Service → 綁定瀏覽器\n",
    "    二、設定自動化瀏覽器，自動開啟指定網頁\n",
    "    '''\n",
    "    chrome=None\n",
    "    try:\n",
    "        service=Service(path)\n",
    "        chrome=webdriver.Chrome(service=service)\n",
    "        chrome.get(url)        \n",
    "    except Exception as e:\n",
    "        print('錯誤',e)\n",
    "        \n",
    "    return chrome"
   ]
  },
  {
   "cell_type": "code",
   "execution_count": null,
   "metadata": {},
   "outputs": [],
   "source": [
    "# 奇摩股市 → 台股類股查詢 → 上市類股/ETF\n",
    "url = \"https://tw.stock.yahoo.com/class-quote?sectorId=26&exchange=TAI\""
   ]
  },
  {
   "cell_type": "code",
   "execution_count": null,
   "metadata": {},
   "outputs": [],
   "source": [
    "# 呼叫函式  get_chrome\n",
    "chrome = get_chrome(url); chrome"
   ]
  },
  {
   "cell_type": "code",
   "execution_count": null,
   "metadata": {},
   "outputs": [],
   "source": [
    "# 捲動網頁\n",
    "# chrome.execute_script(\"window.scrollTo(0,15000)\")\n",
    "\n",
    "start = 0\n",
    "end = 15000\n",
    "step = 500\n",
    "\n",
    "for i in range(start, end, step):\n",
    "    print(i, i+step)\n",
    "    chrome.execute_script(f\"window.scrollTo({i},{i+step})\")\n",
    "    time.sleep(1)"
   ]
  },
  {
   "cell_type": "code",
   "execution_count": null,
   "metadata": {},
   "outputs": [],
   "source": [
    "soup = BeautifulSoup(chrome.page_source, 'lxml')\n",
    "soup"
   ]
  },
  {
   "cell_type": "code",
   "execution_count": null,
   "metadata": {},
   "outputs": [],
   "source": [
    "len(soup), type(soup)"
   ]
  },
  {
   "cell_type": "code",
   "execution_count": null,
   "metadata": {},
   "outputs": [],
   "source": [
    "# 關閉瀏覽器\n",
    "chrome.quit()"
   ]
  },
  {
   "cell_type": "code",
   "execution_count": null,
   "metadata": {},
   "outputs": [],
   "source": [
    "uls = soup.find(\"ul\", class_=\"M(0) P(0) List(n)\")\n",
    "uls"
   ]
  },
  {
   "cell_type": "code",
   "execution_count": null,
   "metadata": {},
   "outputs": [],
   "source": [
    "# uls[0].text → 無法使用哦～\n",
    "len(uls), type(uls)"
   ]
  },
  {
   "cell_type": "code",
   "execution_count": null,
   "metadata": {},
   "outputs": [],
   "source": [
    "# .find_all() 才會有 index 可以用..........\n",
    "lis = uls.find_all(\"div\")\n",
    "lis"
   ]
  },
  {
   "cell_type": "code",
   "execution_count": null,
   "metadata": {},
   "outputs": [],
   "source": [
    "len(lis), type(lis), lis[7].text"
   ]
  },
  {
   "cell_type": "code",
   "execution_count": null,
   "metadata": {},
   "outputs": [],
   "source": [
    "# .find_all() 才會有 index 可以用..........\n",
    "for ul in uls:\n",
    "    for li in ul.find_all(\"div\")[6:8]:\n",
    "        print(li.text)"
   ]
  },
  {
   "cell_type": "code",
   "execution_count": null,
   "metadata": {},
   "outputs": [],
   "source": [
    "index = [6, 7]\n",
    "lis = uls.find_all(\"div\")\n",
    "for i in index:\n",
    "    print(lis[i].text)"
   ]
  },
  {
   "cell_type": "code",
   "execution_count": null,
   "metadata": {},
   "outputs": [],
   "source": [
    "# 取得部份資料\n",
    "datas = []\n",
    "index = [6, 7]\n",
    "for ul in uls:\n",
    "    data = []\n",
    "    lis = ul.find_all(\"div\")\n",
    "    if li.text != \"-\":\n",
    "        for i in index:\n",
    "            data.append(lis[i].text)\n",
    "        datas.append(data)\n",
    "datas"
   ]
  },
  {
   "cell_type": "code",
   "execution_count": null,
   "metadata": {
    "scrolled": true
   },
   "outputs": [],
   "source": [
    "df = pd.DataFrame(datas, columns=[\"name\", \"code\"])\n",
    "df"
   ]
  },
  {
   "cell_type": "code",
   "execution_count": null,
   "metadata": {},
   "outputs": [],
   "source": [
    "df.to_csv(\"etf.csv\", encoding = 'utf-8-sig')"
   ]
  },
  {
   "cell_type": "code",
   "execution_count": null,
   "metadata": {},
   "outputs": [],
   "source": [
    "import sqlite3"
   ]
  },
  {
   "cell_type": "code",
   "execution_count": null,
   "metadata": {},
   "outputs": [],
   "source": [
    "conn = sqlite3.connect(\"etf.db\")\n",
    "conn"
   ]
  },
  {
   "cell_type": "code",
   "execution_count": null,
   "metadata": {},
   "outputs": [],
   "source": [
    "df.to_sql(name=\"etf_stock\", con= conn, if_exists=\"replace\")"
   ]
  },
  {
   "cell_type": "code",
   "execution_count": null,
   "metadata": {},
   "outputs": [],
   "source": [
    "cursor = conn.cursor()\n",
    "cursor"
   ]
  },
  {
   "cell_type": "code",
   "execution_count": null,
   "metadata": {},
   "outputs": [],
   "source": [
    "sqlstr = \" select * from etf_stock \"\n",
    "list(cursor.execute(sqlstr))"
   ]
  },
  {
   "cell_type": "code",
   "execution_count": null,
   "metadata": {},
   "outputs": [],
   "source": [
    "sqlstr = \"select * from etf_stock where name= '元大電子' and code= '0053.TW'\"\n",
    "list(cursor.execute(sqlstr))"
   ]
  },
  {
   "cell_type": "code",
   "execution_count": null,
   "metadata": {},
   "outputs": [],
   "source": [
    "while True:\n",
    "    name = input(\"請輸入股票名稱(-1:exit)：\")\n",
    "    if name == \"-1\":\n",
    "        break\n",
    "    code = input(\"請輸入股票代號：\")\n",
    "\n",
    "    if name == \"\":\n",
    "        sqlstr = F\"select * from etf_stock\"\n",
    "    elif code == \"\":\n",
    "        sqlstr = F\"select * from etf_stock where name= '{name}'\"\n",
    "    else:\n",
    "        sqlstr = F\"select * from etf_stock where name= '{name}' and code= '{code}'\"\n",
    "\n",
    "\n",
    "    datas = list(cursor.execute(sqlstr))\n",
    "\n",
    "    print(F\"您查詢股票名稱：{'全部' if name=='' else name}  代號：{'全部' if code=='' else code}  目前共有 {len(datas)} 種股票，資訊如下：\")\n",
    "    print(\"--\"*30)\n",
    "\n",
    "    for data in datas:\n",
    "        print(F\"股票名稱：{etf_stock[0]}  股票代號：{etf_stock[1]}\")\n",
    "        print(\"--\"*30)"
   ]
  },
  {
   "cell_type": "code",
   "execution_count": null,
   "metadata": {},
   "outputs": [],
   "source": [
    "conn.close()"
   ]
  },
  {
   "cell_type": "code",
   "execution_count": null,
   "metadata": {},
   "outputs": [],
   "source": []
  },
  {
   "cell_type": "code",
   "execution_count": null,
   "metadata": {},
   "outputs": [],
   "source": []
  }
 ],
 "metadata": {
  "kernelspec": {
   "display_name": "Python 3 (ipykernel)",
   "language": "python",
   "name": "python3"
  },
  "language_info": {
   "codemirror_mode": {
    "name": "ipython",
    "version": 3
   },
   "file_extension": ".py",
   "mimetype": "text/x-python",
   "name": "python",
   "nbconvert_exporter": "python",
   "pygments_lexer": "ipython3",
   "version": "3.11.7"
  }
 },
 "nbformat": 4,
 "nbformat_minor": 4
}
